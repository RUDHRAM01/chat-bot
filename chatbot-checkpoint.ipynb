{
 "cells": [
  {
   "cell_type": "code",
   "execution_count": 2,
   "id": "2600a88a",
   "metadata": {},
   "outputs": [],
   "source": [
    "import numpy as np\n",
    "import nltk\n",
    "import string\n",
    "import random"
   ]
  },
  {
   "cell_type": "code",
   "execution_count": 3,
   "id": "838dae55",
   "metadata": {},
   "outputs": [],
   "source": [
    "f = open('./data/data.csv','r',errors = 'ignore')"
   ]
  },
  {
   "cell_type": "code",
   "execution_count": 4,
   "id": "804266db",
   "metadata": {},
   "outputs": [],
   "source": [
    "row_doc = f.read()"
   ]
  },
  {
   "cell_type": "code",
   "execution_count": 5,
   "id": "ffe2077c",
   "metadata": {},
   "outputs": [],
   "source": [
    "raw_doc = row_doc.lower()"
   ]
  },
  {
   "cell_type": "code",
   "execution_count": 20,
   "id": "815682b9",
   "metadata": {},
   "outputs": [
    {
     "name": "stderr",
     "output_type": "stream",
     "text": [
      "[nltk_data] Downloading package punkt to\n",
      "[nltk_data]     C:\\Users\\HP\\AppData\\Roaming\\nltk_data...\n",
      "[nltk_data]   Unzipping tokenizers\\punkt.zip.\n"
     ]
    },
    {
     "data": {
      "text/plain": [
       "True"
      ]
     },
     "execution_count": 20,
     "metadata": {},
     "output_type": "execute_result"
    }
   ],
   "source": [
    "nltk.download('punkt')"
   ]
  },
  {
   "cell_type": "code",
   "execution_count": 21,
   "id": "50eebd7f",
   "metadata": {},
   "outputs": [
    {
     "name": "stderr",
     "output_type": "stream",
     "text": [
      "[nltk_data] Downloading package wordnet to\n",
      "[nltk_data]     C:\\Users\\HP\\AppData\\Roaming\\nltk_data...\n"
     ]
    },
    {
     "data": {
      "text/plain": [
       "True"
      ]
     },
     "execution_count": 21,
     "metadata": {},
     "output_type": "execute_result"
    }
   ],
   "source": [
    "nltk.download('wordnet')"
   ]
  },
  {
   "cell_type": "code",
   "execution_count": 22,
   "id": "9fad315a",
   "metadata": {},
   "outputs": [
    {
     "name": "stderr",
     "output_type": "stream",
     "text": [
      "[nltk_data] Downloading package omw-1.4 to\n",
      "[nltk_data]     C:\\Users\\HP\\AppData\\Roaming\\nltk_data...\n"
     ]
    },
    {
     "data": {
      "text/plain": [
       "True"
      ]
     },
     "execution_count": 22,
     "metadata": {},
     "output_type": "execute_result"
    }
   ],
   "source": [
    "nltk.download('omw-1.4')"
   ]
  },
  {
   "cell_type": "code",
   "execution_count": 6,
   "id": "30089e9c",
   "metadata": {},
   "outputs": [],
   "source": [
    "sentence_tokens = nltk.sent_tokenize(row_doc)"
   ]
  },
  {
   "cell_type": "code",
   "execution_count": 7,
   "id": "af03b324",
   "metadata": {},
   "outputs": [],
   "source": [
    "word_tokens = nltk.word_tokenize(row_doc)"
   ]
  },
  {
   "cell_type": "code",
   "execution_count": 8,
   "id": "1ac7c4cb",
   "metadata": {},
   "outputs": [],
   "source": [
    "lemmer = nltk.stem.WordNetLemmatizer()\n",
    "def LemTokens(tokens):\n",
    "    return [lemmer.lemmatize(token) for token in tokens]\n",
    "remove_punc_dict = dict((ord(punct),None) for punct in string.punctuation)\n",
    "def LemNormalize(text):\n",
    "    return LemTokens(nltk.word_tokenize(text.lower().translate(remove_punc_dict)))"
   ]
  },
  {
   "cell_type": "code",
   "execution_count": 9,
   "id": "cf51d9d9",
   "metadata": {},
   "outputs": [],
   "source": [
    "greet_inputs= ('hello','hi','whassup','how are you?')\n",
    "greet_responses = ('hi','hey','there!','there there!!')\n",
    "def greet(sentence):\n",
    "    for word in sentence.split():\n",
    "        if word.lower() in greet_inputs:\n",
    "            return random.choice(greet_responses)"
   ]
  },
  {
   "cell_type": "code",
   "execution_count": 10,
   "id": "d35ad59b",
   "metadata": {},
   "outputs": [],
   "source": [
    "from sklearn.feature_extraction.text import TfidfVectorizer\n",
    "from sklearn.metrics.pairwise import cosine_similarity"
   ]
  },
  {
   "cell_type": "code",
   "execution_count": 11,
   "id": "d712ef42",
   "metadata": {},
   "outputs": [],
   "source": [
    "def response(user_responce):\n",
    "    robo1_res = ''\n",
    "    TfidfVec = TfidfVectorizer(tokenizer = LemNormalize,stop_words = 'english')\n",
    "    tfidf = TfidfVec.fit_transform(sentence_tokens)\n",
    "    vals = cosine_similarity(tfidf[-1],tfidf)\n",
    "    idx = vals.argsort()[0][-2]\n",
    "    flat = vals.flatten()\n",
    "    flat.sort()\n",
    "    req_tfidf = flat[-2]\n",
    "    if req_tfidf == 0 :\n",
    "        robo1_res = robo1_res + 'i am sorry. cant understand!'\n",
    "        return robo1_res\n",
    "    else:\n",
    "        robo1_res = robo1_res + sentence_tokens[idx]\n",
    "        return robo1_res\n",
    "    "
   ]
  },
  {
   "cell_type": "code",
   "execution_count": null,
   "id": "1ec04775",
   "metadata": {},
   "outputs": [
    {
     "name": "stdout",
     "output_type": "stream",
     "text": [
      "Hello! I am Jarvis Bot. Start typing your text after greeting to talk to me. For ending convo type bye!\n",
      "hello\n",
      "Bot:there there!!\n",
      "what can you do for me\n",
      "Bot: "
     ]
    }
   ],
   "source": [
    "flag = True\n",
    "print('Hello! I am Jarvis Bot. Start typing your text after greeting to talk to me. For ending convo type bye!')\n",
    "while(flag):\n",
    "    user_response = input()\n",
    "    user_response = user_response.lower()\n",
    "    if user_response != 'bye':\n",
    "        if user_response == 'thank you' or user_response == 'thanks' :\n",
    "            flag = False\n",
    "            print('Bot:: You are Welcome..')\n",
    "        else:\n",
    "            if(greet(user_response) != None):\n",
    "                print('Bot:' + greet(user_response))\n",
    "            else:\n",
    "                sentence_tokens.append(user_response)\n",
    "                word_tokens = word_tokens + nltk.word_tokenize(user_response)\n",
    "                final_words = list(set(word_tokens))\n",
    "                print('Bot: ',end = '')\n",
    "                print(response(user_response))\n",
    "                sentence_tokens.remove(user_response)\n",
    "    else:\n",
    "                flag = False\n",
    "                print('Bot: Goodbye! ')\n",
    "                "
   ]
  },
  {
   "cell_type": "code",
   "execution_count": null,
   "id": "82931120",
   "metadata": {},
   "outputs": [],
   "source": []
  }
 ],
 "metadata": {
  "kernelspec": {
   "display_name": "Python 3 (ipykernel)",
   "language": "python",
   "name": "python3"
  },
  "language_info": {
   "codemirror_mode": {
    "name": "ipython",
    "version": 3
   },
   "file_extension": ".py",
   "mimetype": "text/x-python",
   "name": "python",
   "nbconvert_exporter": "python",
   "pygments_lexer": "ipython3",
   "version": "3.10.5"
  }
 },
 "nbformat": 4,
 "nbformat_minor": 5
}
